{
  "nbformat": 4,
  "nbformat_minor": 0,
  "metadata": {
    "colab": {
      "provenance": [],
      "authorship_tag": "ABX9TyMAP+lZIo6lcsLhuwzHd4H1",
      "include_colab_link": true
    },
    "kernelspec": {
      "name": "python3",
      "display_name": "Python 3"
    },
    "language_info": {
      "name": "python"
    }
  },
  "cells": [
    {
      "cell_type": "markdown",
      "metadata": {
        "id": "view-in-github",
        "colab_type": "text"
      },
      "source": [
        "<a href=\"https://colab.research.google.com/github/nadirawijaya/KomputasiIntelegensia/blob/main/TaskWeek7_NadiraPutriWijaya2106635190.ipynb\" target=\"_parent\"><img src=\"https://colab.research.google.com/assets/colab-badge.svg\" alt=\"Open In Colab\"/></a>"
      ]
    },
    {
      "cell_type": "markdown",
      "source": [
        "##TASK WEEK 7\n",
        "Nama: Nadira Putri Wijaya\n",
        "\n",
        "NPM: 2106635190"
      ],
      "metadata": {
        "id": "16rN2S-fiSwW"
      }
    },
    {
      "cell_type": "code",
      "source": [
        "!pip install emoji==0.6.0\n",
        "# Import libraries yang dibutuhkan\n",
        "import torch\n",
        "import matplotlib.pyplot as plt  # Untuk visualisasi loss curve\n",
        "from sklearn.metrics import accuracy_score, classification_report, confusion_matrix  # Untuk evaluasi performa\n",
        "import seaborn as sns  # Untuk plot confusion matrix"
      ],
      "metadata": {
        "colab": {
          "base_uri": "https://localhost:8080/"
        },
        "id": "_37af1BWiDmT",
        "outputId": "c9d3206f-a89b-4b2a-a8f4-91ae1e2e690b"
      },
      "execution_count": 18,
      "outputs": [
        {
          "output_type": "stream",
          "name": "stdout",
          "text": [
            "Requirement already satisfied: emoji==0.6.0 in /usr/local/lib/python3.10/dist-packages (0.6.0)\n"
          ]
        }
      ]
    },
    {
      "cell_type": "code",
      "execution_count": 19,
      "metadata": {
        "colab": {
          "base_uri": "https://localhost:8080/"
        },
        "id": "HV4u9ojugsNO",
        "outputId": "4038a3a4-7624-451a-e8e3-604753c99d2e"
      },
      "outputs": [
        {
          "output_type": "stream",
          "name": "stderr",
          "text": [
            "/usr/local/lib/python3.10/dist-packages/transformers/tokenization_utils_base.py:1601: FutureWarning: `clean_up_tokenization_spaces` was not set. It will be set to `True` by default. This behavior will be depracted in transformers v4.45, and will be then set to `False` by default. For more details check this issue: https://github.com/huggingface/transformers/issues/31884\n",
            "  warnings.warn(\n"
          ]
        }
      ],
      "source": [
        "# 1. Load tokenizer dan model dari Hugging Face\n",
        "# Model ini adalah bertweet-base untuk analisis sentimen tweet\n",
        "# Use a pipeline as a high-level helper\n",
        "from transformers import pipeline\n",
        "\n",
        "pipe = pipeline(\"text-classification\", model=\"finiteautomata/bertweet-base-sentiment-analysis\")"
      ]
    },
    {
      "cell_type": "code",
      "source": [
        "# Load model directly\n",
        "from transformers import AutoTokenizer, AutoModelForSequenceClassification\n",
        "\n",
        "tokenizer = AutoTokenizer.from_pretrained(\"finiteautomata/bertweet-base-sentiment-analysis\")\n",
        "model = AutoModelForSequenceClassification.from_pretrained(\"finiteautomata/bertweet-base-sentiment-analysis\")"
      ],
      "metadata": {
        "id": "QhzBa7S5g7Ms"
      },
      "execution_count": 20,
      "outputs": []
    },
    {
      "cell_type": "code",
      "source": [
        "# 2. Dataset sintetik untuk fine-tuning (data kecil sebagai contoh)\n",
        "synthetic_tweets = [\n",
        "    \"Awful experience, won't use again.\",    # Negatif\n",
        "    \"The app is fantastic!\",                 # Positif\n",
        "    \"Horrible design and very buggy.\",       # Negatif\n",
        "    \"The support team solved my issue quickly!\"  # Positif\n",
        "]\n",
        "synthetic_labels = [0, 1, 0, 1]  # Label: 0 = Negatif, 1 = Positif\n"
      ],
      "metadata": {
        "id": "C3kp9v5Xh2aF"
      },
      "execution_count": 21,
      "outputs": []
    },
    {
      "cell_type": "code",
      "source": [
        "# 3. Tokenisasi data input (konversi teks menjadi tensor)\n",
        "inputs = tokenizer(synthetic_tweets, padding=True, truncation=True, return_tensors=\"pt\")\n",
        "inputs['labels'] = torch.tensor(synthetic_labels)  # Tambahkan label ke input\n"
      ],
      "metadata": {
        "id": "_nB6Bbpehvh3"
      },
      "execution_count": 22,
      "outputs": []
    },
    {
      "cell_type": "code",
      "source": [
        "# 4. Optimizer menggunakan AdamW untuk memperbarui bobot model\n",
        "optimizer = torch.optim.AdamW(model.parameters(), lr=1e-5)  # lr = learning rate"
      ],
      "metadata": {
        "id": "V0qfzKWdiQMm"
      },
      "execution_count": 23,
      "outputs": []
    },
    {
      "cell_type": "code",
      "source": [
        "# 5. Training loop untuk fine-tuning model (5 epoch)\n",
        "losses = []  # List untuk menyimpan nilai loss per epoch\n",
        "model.train()  # Aktifkan mode training\n",
        "for epoch in range(5):  # Loop sebanyak 5 epoch\n",
        "    outputs = model(**inputs)  # Forward pass\n",
        "    loss = outputs.loss  # Hitung loss\n",
        "    loss.backward()  # Backpropagation untuk menghitung gradien\n",
        "    optimizer.step()  # Update parameter model\n",
        "    optimizer.zero_grad()  # Reset gradien\n",
        "    losses.append(loss.item())  # Simpan loss ke list\n",
        "    print(f\"Epoch {epoch + 1}, Loss: {loss.item()}\")  # Cetak loss setiap epoch\n"
      ],
      "metadata": {
        "colab": {
          "base_uri": "https://localhost:8080/"
        },
        "id": "M1EXCzXSleIs",
        "outputId": "538dedf1-ca04-4420-bb53-219b0ffba810"
      },
      "execution_count": 24,
      "outputs": [
        {
          "output_type": "stream",
          "name": "stdout",
          "text": [
            "Epoch 1, Loss: 1.9539917707443237\n",
            "Epoch 2, Loss: 1.5635013580322266\n",
            "Epoch 3, Loss: 1.1896817684173584\n",
            "Epoch 4, Loss: 1.2120193243026733\n",
            "Epoch 5, Loss: 0.8343720436096191\n"
          ]
        }
      ]
    },
    {
      "cell_type": "code",
      "source": [
        "# 6. Visualisasi loss curve untuk melihat konvergensi model\n",
        "plt.plot(losses, marker='o')\n",
        "plt.title(\"Loss Curve\")  # Judul plot\n",
        "plt.xlabel(\"Epoch\")  # Sumbu X: Epoch\n",
        "plt.ylabel(\"Loss\")  # Sumbu Y: Nilai Loss\n",
        "plt.show()  # Tampilkan plot"
      ],
      "metadata": {
        "colab": {
          "base_uri": "https://localhost:8080/",
          "height": 472
        },
        "id": "dJJjzeX0lhMV",
        "outputId": "ce90ee0a-6095-4e48-a620-e6e384e992bc"
      },
      "execution_count": 25,
      "outputs": [
        {
          "output_type": "display_data",
          "data": {
            "text/plain": [
              "<Figure size 640x480 with 1 Axes>"
            ],
            "image/png": "[encoded data removed]"
          },
          "metadata": {}
        }
      ]
    },
    {
      "cell_type": "code",
      "source": [
        "# 7. Testing model dengan data baru setelah fine-tuning\n",
        "test_tweets = [\n",
        "    \"I can't believe how bad this app is now.\",  # Negatif\n",
        "    \"Their service keeps getting better!\"        # Positif\n",
        "]\n",
        "test_inputs = tokenizer(test_tweets, padding=True, truncation=True, return_tensors=\"pt\")\n",
        "\n",
        "# Predict dengan model (tanpa menghitung gradien)\n",
        "with torch.no_grad():  # Aktifkan mode evaluasi\n",
        "    test_outputs = model(**test_inputs)  # Forward pass\n",
        "    predictions = torch.argmax(test_outputs.logits, dim=-1)  # Ambil prediksi kelas\n",
        "\n",
        "# Tampilkan hasil prediksi\n",
        "for tweet, pred in zip(test_tweets, predictions):\n",
        "    sentiment = \"Positive\" if pred == 1 else \"Negative\"  # Konversi label ke teks\n",
        "    print(f\"Tweet: {tweet} -> Sentiment: {sentiment}\")"
      ],
      "metadata": {
        "colab": {
          "base_uri": "https://localhost:8080/"
        },
        "id": "GxPtZ_splh4y",
        "outputId": "debc799c-bf11-466a-ab7e-17f5cdb6e14c"
      },
      "execution_count": 26,
      "outputs": [
        {
          "output_type": "stream",
          "name": "stdout",
          "text": [
            "Tweet: I can't believe how bad this app is now. -> Sentiment: Negative\n",
            "Tweet: Their service keeps getting better! -> Sentiment: Negative\n"
          ]
        }
      ]
    },
    {
      "cell_type": "code",
      "source": [
        "# 8. Evaluasi performa menggunakan classification report dan confusion matrix\n",
        "true_labels = [0, 1]  # Ground truth untuk data test\n",
        "pred_labels = predictions.numpy()  # Konversi tensor prediksi ke numpy array\n",
        "\n",
        "# Cetak classification report dengan precision, recall, dan F1-score\n",
        "print(\"\\nClassification Report:\")\n",
        "print(classification_report(true_labels, pred_labels, target_names=[\"Negative\", \"Positive\"]))\n",
        "\n",
        "# Buat confusion matrix untuk memvisualisasikan hasil klasifikasi\n",
        "cm = confusion_matrix(true_labels, pred_labels)  # Hitung confusion matrix\n",
        "# Plot confusion matrix menggunakan seaborn\n",
        "sns.heatmap(cm, annot=True, fmt='d', cmap='Blues',\n",
        "            xticklabels=[\"Negative\", \"Positive\"], yticklabels=[\"Negative\", \"Positive\"])\n",
        "plt.title(\"Confusion Matrix\")  # Judul plot\n",
        "plt.xlabel(\"Predicted\")  # Sumbu X: Prediksi\n",
        "plt.ylabel(\"True\")  # Sumbu Y: Ground Truth\n",
        "plt.show()  # Tampilkan plot"
      ],
      "metadata": {
        "id": "7acWuXhtlsws"
      },
      "execution_count": null,
      "outputs": []
    },
    {
      "cell_type": "markdown",
      "source": [
        "Penjelasan Setiap Bagian:\n",
        "Import Libraries\n",
        "\n",
        "transformers: Untuk memuat model BERTweet dan pipeline.\n",
        "torch: Library PyTorch untuk fine-tuning dan training model.\n",
        "sklearn.metrics: Digunakan untuk evaluasi model dengan metrik klasifikasi.\n",
        "seaborn dan matplotlib: Untuk visualisasi hasil evaluasi seperti loss curve dan confusion matrix.\n",
        "Load Model dan Tokenizer\n",
        "\n",
        "Model BERTweet digunakan karena spesifik untuk analisis sentimen pada tweet.\n",
        "Tokenizer akan mengubah teks menjadi representasi tensor yang bisa diproses oleh model.\n",
        "Data Sintetik\n",
        "\n",
        "Contoh tweet dengan label positif dan negatif untuk melatih model.\n",
        "Fine-tuning dilakukan dengan dataset kecil ini.\n",
        "Training Loop\n",
        "\n",
        "Proses fine-tuning model dengan menggunakan optimizer AdamW.\n",
        "Setiap epoch, loss dihitung dan dicetak.\n",
        "Loss curve ditampilkan untuk melihat pola konvergensi.\n",
        "Testing dan Prediksi\n",
        "\n",
        "Model diuji dengan beberapa tweet baru setelah proses fine-tuning.\n",
        "Prediksi model dikonversi ke bentuk teks untuk ditampilkan.\n",
        "Evaluasi Model\n",
        "\n",
        "Classification Report: Menampilkan metrik seperti precision, recall, dan F1-score.\n",
        "Confusion Matrix: Visualisasi akurasi prediksi model untuk setiap kelas.\n",
        "Output yang Diharapkan:\n",
        "Loss Curve: Menampilkan penurunan loss selama training.\n",
        "Prediksi Sentimen: Setiap tweet diuji dengan prediksi sentimen \"Positive\" atau \"Negative\".\n",
        "Classification Report: Metrik evaluasi seperti precision, recall, dan F1-score.\n",
        "Confusion Matrix: Menunjukkan jumlah prediksi yang benar dan salah untuk setiap kelas.\n"
      ],
      "metadata": {
        "id": "4lLUnjKVltz6"
      }
    }
  ]
}